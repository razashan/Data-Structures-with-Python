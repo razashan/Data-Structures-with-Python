{
 "cells": [
  {
   "cell_type": "markdown",
   "id": "f9e079d8",
   "metadata": {},
   "source": [
    "# Knapsack Problem "
   ]
  },
  {
   "cell_type": "markdown",
   "id": "a0bc741f",
   "metadata": {},
   "source": [
    "The knapsack problem is a problem in combinatorial optimization: Given a set of items, each with a weight and a value, determine the number of each item to include in a collection so that the total weight is less than or equal to a given limit and the total value is as large as possible. It derives its name from the problem faced by someone who is constrained by a fixed-size knapsack and must fill it with the most valuable items. The problem often arises in resource allocation where the decision makers have to choose from a set of non-divisible projects or tasks under a fixed budget or time constraint, respectively."
   ]
  },
  {
   "cell_type": "code",
   "execution_count": 2,
   "id": "9972701b",
   "metadata": {},
   "outputs": [
    {
     "name": "stdout",
     "output_type": "stream",
     "text": [
      "220\n"
     ]
    }
   ],
   "source": [
    "def Knapsack(knapsackSize, itemsValue, itemsWeight):\n",
    "\tnumItems = len(itemsValue)\n",
    "\tM = [[0 for x in range(knapsackSize + 1)] for x in range(len(itemsValue))]\n",
    "\tfor i in range(1, numItems):\n",
    "\t\tfor j in range(knapsackSize + 1):\n",
    "\t\t\tvalue = itemsValue[i]\n",
    "\t\t\tweight = itemsWeight[i]\n",
    "\t\t\tif weight > j:\n",
    "\t\t\t\tM[i][j] = M[i - 1][j]\n",
    "\t\t\telse:\n",
    "\t\t\t\tM[i][j] = max(M[i - 1][j], M[i - 1][j - weight] + value)\n",
    " \n",
    "\treturn M[numItems - 1][knapsackSize]\n",
    "\t\n",
    "print(Knapsack(50, [60, 100, 120], [10, 20, 30]))"
   ]
  }
 ],
 "metadata": {
  "kernelspec": {
   "display_name": "Python 3",
   "language": "python",
   "name": "python3"
  },
  "language_info": {
   "codemirror_mode": {
    "name": "ipython",
    "version": 3
   },
   "file_extension": ".py",
   "mimetype": "text/x-python",
   "name": "python",
   "nbconvert_exporter": "python",
   "pygments_lexer": "ipython3",
   "version": "3.8.8"
  }
 },
 "nbformat": 4,
 "nbformat_minor": 5
}
