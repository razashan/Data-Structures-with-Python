{
 "cells": [
  {
   "cell_type": "markdown",
   "id": "60a45aa8",
   "metadata": {},
   "source": [
    "# BinarySearcLastOccurrence"
   ]
  },
  {
   "cell_type": "code",
   "execution_count": 10,
   "id": "6e4e001e",
   "metadata": {},
   "outputs": [
    {
     "name": "stdout",
     "output_type": "stream",
     "text": [
      "Element is present at index  3\n"
     ]
    }
   ],
   "source": [
    "def binarySearch (arr, l, r, x):\n",
    " \n",
    "    # Check base case\n",
    "    if r >= l:\n",
    " \n",
    "        mid = l + (r - l) // 2\n",
    " \n",
    "        # If element is present at the middle itself\n",
    "        if arr[mid] == x:\n",
    "            return mid\n",
    "         \n",
    "        # If element is smaller than mid, then it\n",
    "        # can only be present in left subarray\n",
    "        elif arr[mid] > x:\n",
    "            return binarySearch(arr, l, mid-1, x)\n",
    " \n",
    "        # Else the element can only be present\n",
    "        # in right subarray\n",
    "        else:\n",
    "            return binarySearch(arr, mid + 1, r, x)\n",
    " \n",
    "    else:\n",
    "        # Element is not present in the array\n",
    "        return -1\n",
    " \n",
    "# Driver Code\n",
    "arr = [ 2, 3, 4, 10, 40 ]\n",
    "x = 10\n",
    " \n",
    "# Function call\n",
    "result = binarySearch(arr, 0, len(arr)-1, x)\n",
    " \n",
    "if result != -1:\n",
    "    print (\"Element is present at index % d\" % result)\n",
    "else:\n",
    "    print (\"Element is not present in array\")"
   ]
  },
  {
   "cell_type": "markdown",
   "id": "74547dc5",
   "metadata": {},
   "source": [
    "# CheckDuplicatesBruteForce"
   ]
  },
  {
   "cell_type": "markdown",
   "id": "c59bcba2",
   "metadata": {},
   "source": [
    "In computer science, brute-force search or exhaustive search, also known as generate and test, is a very general problem-solving technique and algorithmic paradigm that consists of systematically enumerating all possible candidates for the solution and checking whether each candidate satisfies the problem's statemen"
   ]
  },
  {
   "cell_type": "code",
   "execution_count": 11,
   "id": "fc6fc389",
   "metadata": {},
   "outputs": [
    {
     "name": "stdout",
     "output_type": "stream",
     "text": [
      "No duplicates in given array.\n",
      "Duplicates exist: 3\n"
     ]
    }
   ],
   "source": [
    "def CheckDuplicatesBruteForce(A):\n",
    "\tfor i in range(0, len(A)):\n",
    "\t\tfor j in range(i + 1, len(A)):\n",
    "\t\t\tif(A[i] == A[j]):\n",
    "\t\t\t\tprint(\"Duplicates exist:\", A[i])\n",
    "\t\t\t\treturn;\n",
    "\tprint(\"No duplicates in given array.\")\n",
    "\n",
    "A = [3, 2, 10, 20, 22, 32]\n",
    "CheckDuplicatesBruteForce(A)\n",
    "A = [3, 2, 1, 2, 2, 3]\n",
    "CheckDuplicatesBruteForce(A)"
   ]
  },
  {
   "cell_type": "markdown",
   "id": "0a819df1",
   "metadata": {},
   "source": [
    "# CheckDuplicatesSorting"
   ]
  },
  {
   "cell_type": "code",
   "execution_count": 12,
   "id": "23bc5eb2",
   "metadata": {},
   "outputs": [
    {
     "name": "stdout",
     "output_type": "stream",
     "text": [
      "No duplicates in given array.\n",
      "Duplicates exist: 2\n"
     ]
    }
   ],
   "source": [
    "def CheckDuplicatesSorting(A):\n",
    "\tA.sort()\n",
    "\tfor i in range(0, len(A) - 1):\n",
    "\t\tif(A[i] == A[i + 1]):\n",
    "\t\t\tprint(\"Duplicates exist:\", A[i])\n",
    "\t\t\treturn\n",
    "\tprint(\"No duplicates in given array.\")\n",
    "\n",
    "A = [33, 2, 10, 20, 22, 32]\n",
    "CheckDuplicatesSorting(A)\n",
    "A = [3, 2, 1, 2, 2, 3]\n",
    "CheckDuplicatesSorting(A)"
   ]
  },
  {
   "cell_type": "markdown",
   "id": "296bd1d3",
   "metadata": {},
   "source": [
    "# MajorityElement"
   ]
  },
  {
   "cell_type": "code",
   "execution_count": 14,
   "id": "34174503",
   "metadata": {},
   "outputs": [
    {
     "name": "stdout",
     "output_type": "stream",
     "text": [
      "3\n"
     ]
    }
   ],
   "source": [
    "def majorityElement(A):\n",
    "\tcount = 0\n",
    "\telement = -1\n",
    "\tn = len(A)\n",
    "\tif n == 0:\n",
    "\t\treturn\n",
    "\tfor i in range(0, n - 1):\n",
    "\t\tif(count == 0) :\n",
    "\t\t\telement = A[i]\n",
    "\t\t\tcount = 1\n",
    "\t\telif(element == A[i]):\n",
    "\t\t\tcount += 1\n",
    "\t\telse:\n",
    "\t\t\tcount -= 1\n",
    "\treturn element\n",
    "\n",
    "A = [7, 3, 2, 3, 3, 6, 3\t]\n",
    "print(majorityElement(A))"
   ]
  },
  {
   "cell_type": "markdown",
   "id": "e1e0df4d",
   "metadata": {},
   "source": [
    "# CheckWhoWinsTheElection"
   ]
  },
  {
   "cell_type": "code",
   "execution_count": 15,
   "id": "8f024e3a",
   "metadata": {},
   "outputs": [
    {
     "name": "stdout",
     "output_type": "stream",
     "text": [
      "2 appeared  3  times\n",
      "3 appeared  4  times\n"
     ]
    }
   ],
   "source": [
    "def CheckWhoWinsTheElection(A):\n",
    "\tcounter = maxCounter = 0\n",
    "\tcandidate = A[0]\n",
    "\tfor i in range(0, len(A)):\n",
    "\t\tcounter = 1\n",
    "\t\tfor j in range(i + 1, len(A)):\n",
    "\t\t\tif(A[i] == A[j]): \n",
    "\t\t\t\tcounter += 1\t\t\n",
    "\t\tif(counter > maxCounter):\n",
    "\t\t\tmaxCounter = counter\n",
    "\t\t\tcandidate = A[i]\t\n",
    "\tprint(candidate, \"appeared \", maxCounter, \" times\")\n",
    "\n",
    "A = [3, 2, 1, 2, 2, 3]\n",
    "CheckWhoWinsTheElection(A)\n",
    "A = [3, 3, 3, 2, 2, 3]\n",
    "CheckWhoWinsTheElection(A)"
   ]
  },
  {
   "cell_type": "markdown",
   "id": "ef97d5ba",
   "metadata": {},
   "source": [
    "# Interpolation Search"
   ]
  },
  {
   "cell_type": "markdown",
   "id": "8d2603d5",
   "metadata": {},
   "source": [
    "Given a sorted array of n uniformly distributed values arr[], write a function to search for a particular element x in the array. \n",
    "Linear Search finds the element in O(n) time, Jump Search takes O(√ n) time and Binary Search take O(Log n) time. \n",
    "The Interpolation Search is an improvement over Binary Search for instances, where the values in a sorted array are uniformly distributed. Binary Search always goes to the middle element to check. On the other hand, interpolation search may go to different locations according to the value of the key being searched. For example, if the value of the key is closer to the last element, interpolation search is likely to start search toward the end side."
   ]
  },
  {
   "cell_type": "raw",
   "id": "a9f24a24",
   "metadata": {},
   "source": [
    "// The idea of formula is to return higher value of pos\n",
    "// when element to be searched is closer to arr[hi]. And\n",
    "// smaller value when closer to arr[lo]\n",
    "pos = lo + [ (x-arr[lo])*(hi-lo) / (arr[hi]-arr[Lo]) ]\n",
    "\n",
    "arr[] ==> Array where elements need to be searched\n",
    "x     ==> Element to be searched\n",
    "lo    ==> Starting index in arr[]\n",
    "hi    ==> Ending index in arr[]"
   ]
  },
  {
   "cell_type": "markdown",
   "id": "af2dbfba",
   "metadata": {},
   "source": [
    "<b>Algorithm</b> <br>\n",
    "Rest of the Interpolation algorithm is the same except the above partition logic. \n",
    "1. Step1: In a loop, calculate the value of “pos” using the probe position formula. \n",
    "2. Step2: If it is a match, return the index of the item, and exit. \n",
    "3. Step3: If the item is less than arr[pos], calculate the probe position of the left sub-array. Otherwise calculate the same in the right sub-array. \n",
    "4. Step4: Repeat until a match is found or the sub-array reduces to zero.\n",
    "Below is the implementation of algorithm. "
   ]
  },
  {
   "cell_type": "code",
   "execution_count": 16,
   "id": "e1dbfed8",
   "metadata": {},
   "outputs": [
    {
     "name": "stdout",
     "output_type": "stream",
     "text": [
      "Element found at index 4\n"
     ]
    }
   ],
   "source": [
    "def interpolationSearch(arr, lo, hi, x):\n",
    " \n",
    "    # Since array is sorted, an element present\n",
    "    # in array must be in range defined by corner\n",
    "    if (lo <= hi and x >= arr[lo] and x <= arr[hi]):\n",
    " \n",
    "        # Probing the position with keeping\n",
    "        # uniform distribution in mind.\n",
    "        pos = lo + ((hi - lo) // (arr[hi] - arr[lo]) *\n",
    "                    (x - arr[lo]))\n",
    " \n",
    "        # Condition of target found\n",
    "        if arr[pos] == x:\n",
    "            return pos\n",
    " \n",
    "        # If x is larger, x is in right subarray\n",
    "        if arr[pos] < x:\n",
    "            return interpolationSearch(arr, pos + 1,\n",
    "                                       hi, x)\n",
    " \n",
    "        # If x is smaller, x is in left subarray\n",
    "        if arr[pos] > x:\n",
    "            return interpolationSearch(arr, lo,\n",
    "                                       pos - 1, x)\n",
    "    return -1\n",
    " \n",
    "# Driver code\n",
    " \n",
    " \n",
    "# Array of items in which\n",
    "# search will be conducted\n",
    "arr = [10, 12, 13, 16, 18, 19, 20,\n",
    "       21, 22, 23, 24, 33, 35, 42, 47]\n",
    "n = len(arr)\n",
    " \n",
    "# Element to be searched\n",
    "x = 18\n",
    "index = interpolationSearch(arr, 0, n - 1, x)\n",
    " \n",
    "if index != -1:\n",
    "    print(\"Element found at index\", index)\n",
    "else:\n",
    "    print(\"Element not found\")"
   ]
  },
  {
   "cell_type": "markdown",
   "id": "56c93dfc",
   "metadata": {},
   "source": [
    "# Find Missing Number BruteForce"
   ]
  },
  {
   "cell_type": "code",
   "execution_count": 19,
   "id": "912b91f5",
   "metadata": {},
   "outputs": [
    {
     "name": "stdout",
     "output_type": "stream",
     "text": [
      "Missing number is  3\n"
     ]
    }
   ],
   "source": [
    "def FindMissingNumber(A):\n",
    "\tn = len(A)\n",
    "\tfor i in range(1, n + 1):\n",
    "\t\tfound = 0\n",
    "\t\tfor j in range(0, n):\n",
    "\t\t\tif(i == A[j]):\n",
    "\t\t\t\tfound = 1\n",
    "\t\tif found == 0:\n",
    "\t\t\tprint(\"Missing number is \", i)\n",
    "\n",
    "A = [8, 2, 1, 4, 6, 5, 7, 9]\n",
    "FindMissingNumber(A)"
   ]
  },
  {
   "cell_type": "markdown",
   "id": "0b15835d",
   "metadata": {},
   "source": [
    "# Max Repititions Brute Force"
   ]
  },
  {
   "cell_type": "code",
   "execution_count": 25,
   "id": "1b4a4612",
   "metadata": {},
   "outputs": [
    {
     "name": "stdout",
     "output_type": "stream",
     "text": [
      "2 repeated for  4\n"
     ]
    }
   ],
   "source": [
    "\n",
    "def MaxRepititionsBruteForce(A):\n",
    "\tn = len(A)\n",
    "\tcount = max = 0\n",
    "\tfor i in range(0, n):\n",
    "\t\tcount = 1\n",
    "\t\tfor j in range(0, n):\n",
    "\t\t\tif(i != j and A[i] == A[j]):\n",
    "\t\t\t\tcount += 1\n",
    "\t\tif max < count:\n",
    "\t\t\tmax = count\n",
    "\t\t\tmaxRepeatedElement = A[i]\n",
    "\tprint(maxRepeatedElement, \"repeated for \", max)\n",
    "\n",
    "A = [3, 2, 1, 2, 2, 3, 2, 1, 3]\n",
    "MaxRepititionsBruteForce(A)"
   ]
  },
  {
   "cell_type": "markdown",
   "id": "696dbaf1",
   "metadata": {},
   "source": [
    "# Move Spaces To Begin"
   ]
  },
  {
   "cell_type": "code",
   "execution_count": 27,
   "id": "ab114aa0",
   "metadata": {},
   "outputs": [
    {
     "name": "stdout",
     "output_type": "stream",
     "text": [
      "move these spaces to beginning \n",
      "     movethesespacestobeginning\n",
      "move these spaces to beginning \n",
      "      ovethesespacestobeginning\n"
     ]
    }
   ],
   "source": [
    "def moveSpacesToBegin(A):\n",
    "     i = len(A) - 1\n",
    "     datalist = list(A)\n",
    "     j = i\n",
    "     for j in range(i, -1, -1):\n",
    "          if(not datalist[j].isspace()):\n",
    "                temp = datalist[i]\n",
    "                datalist[i] = datalist[j]\n",
    "                datalist[j] = temp\n",
    "                i -= 1\n",
    "     A = ''.join(datalist)\n",
    "     return A\n",
    "A = \"move these spaces to beginning\"\n",
    "print(A, \"\\n\", moveSpacesToBegin(A))\n",
    "\n",
    "def moveSpacesToBegin2(A):\n",
    "\tn = len(A) - 1\n",
    "\tdatalist = list(A)\n",
    "\tcount = i = n\n",
    "\tfor j in range(i, 0, -1):\n",
    "\t\tif(not datalist[j].isspace()):\n",
    "\t\t\tdatalist[count] = datalist[j]\n",
    "\t\t\tcount -= 1\n",
    "\t\t\t\n",
    "\twhile(count >= 0):\n",
    "\t\tdatalist[count] = ' '\n",
    "\t\tcount -= 1\n",
    "\tA = ''.join(datalist)\n",
    "\treturn A\n",
    "A = \"move these spaces to beginning\"\n",
    "print(A, \"\\n\", moveSpacesToBegin2(A))"
   ]
  },
  {
   "cell_type": "markdown",
   "id": "65232ca5",
   "metadata": {},
   "source": [
    "# Move Spaces To End"
   ]
  },
  {
   "cell_type": "code",
   "execution_count": 28,
   "id": "b88b3d84",
   "metadata": {
    "scrolled": true
   },
   "outputs": [
    {
     "name": "stdout",
     "output_type": "stream",
     "text": [
      "move these spaces to beginning \n",
      " movethesespacestobeginnin     \n"
     ]
    }
   ],
   "source": [
    "def moveSpacesToEnd(A):\n",
    "\tn = len(A) - 1\n",
    "\tdatalist = list(A)\n",
    "\tcount = i = 0\n",
    "\tfor i in range(i, n):\n",
    "\t\tif(not datalist[i].isspace()):\n",
    "\t\t\tdatalist[count] = datalist[i]\n",
    "\t\t\tcount += 1\n",
    "\t\t\t\n",
    "\twhile(count <= n):\n",
    "\t\tdatalist[count] = ' '\n",
    "\t\tcount += 1\n",
    "\tA = ''.join(datalist)\n",
    "\treturn A\n",
    "A = \"move these spaces to beginning\"\n",
    "print(A, \"\\n\", moveSpacesToEnd(A))"
   ]
  },
  {
   "cell_type": "markdown",
   "id": "f24d5775",
   "metadata": {},
   "source": [
    "# Move Zeros to End "
   ]
  },
  {
   "cell_type": "code",
   "execution_count": 30,
   "id": "60706fbb",
   "metadata": {},
   "outputs": [
    {
     "name": "stdout",
     "output_type": "stream",
     "text": [
      "[7, 3, 2, 3, 3, 6, 3, 0, 0, 0] \n",
      " [7, 3, 2, 3, 3, 6, 3, 0, 0, 0]\n",
      "[7, 3, 2, 3, 3, 6, 3, 0, 0, 0] \n",
      " [7, 3, 2, 3, 3, 6, 3, 0, 0, 0]\n"
     ]
    }
   ],
   "source": [
    "def moveZerosToEnd(A):\n",
    "\ti = j = 0\n",
    "\twhile (i <= len(A) - 1):  \n",
    "\t\tif (A[i] != 0):\n",
    "\t\t\tA[j] = A[i]\n",
    "\t\t\tj += 1\n",
    "\t\ti += 1\n",
    "\twhile (j <= len(A) - 1):   \n",
    "\t\tA[j] = 0\n",
    "\t\tj += 1\n",
    "\treturn A\n",
    "A = [7, 0, 0, 3, 0, 2, 3, 3, 6, 3]\n",
    "print(A, \"\\n\", moveZerosToEnd(A))\n",
    "\n",
    "def mySwap(A, i, j):\n",
    "\ttemp = A[i]\n",
    "\tA[i] = A[j]\n",
    "\tA[j] = temp\n",
    "\n",
    "def moveZerosToEnd2(A):\n",
    "\ti = j = 0\n",
    "\twhile (i <= len(A) - 1):  \n",
    "\t\tif (A[i] != 0):\n",
    "\t\t\tmySwap(A, j, i)\n",
    "\t\t\tj += 1\n",
    "\t\ti += 1\n",
    "\treturn A\n",
    "\n",
    "A = [7, 0, 0, 3, 0, 2, 3, 3, 6, 3]\n",
    "print(A, \"\\n\", moveZerosToEnd2(A))"
   ]
  },
  {
   "cell_type": "markdown",
   "id": "3094211d",
   "metadata": {},
   "source": [
    "# Print Two Repeated Elements Brute Force"
   ]
  },
  {
   "cell_type": "code",
   "execution_count": 32,
   "id": "b7043eb8",
   "metadata": {},
   "outputs": [
    {
     "name": "stdout",
     "output_type": "stream",
     "text": [
      "4\n",
      "2\n"
     ]
    }
   ],
   "source": [
    "def PrintTwoRepeatedElementsBruteForce(A):\n",
    "\tn = len(A)\n",
    "\tfor i in range(0, n):\n",
    "\t\tfor j in range(i + 1, n):\n",
    "\t\t\tif(A[i] == A[j]):\n",
    "\t\t\t\tprint(A[i])\n",
    "\n",
    "\n",
    "A = [3, 5, 7, 4, 2, 4, 2, 1, 9]\n",
    "PrintTwoRepeatedElementsBruteForce(A)"
   ]
  },
  {
   "cell_type": "markdown",
   "id": "9d4a975c",
   "metadata": {},
   "source": [
    "# Remove Adjacent Repeats"
   ]
  },
  {
   "cell_type": "code",
   "execution_count": 35,
   "id": "d890e83a",
   "metadata": {},
   "outputs": [
    {
     "name": "stdout",
     "output_type": "stream",
     "text": [
      "['A', 'B', 'C', 'B', 'A']\n"
     ]
    }
   ],
   "source": [
    "def removeAdjacentRepeats(nums):\n",
    "  i = 1\n",
    "  while i < len(nums):    \n",
    "    if nums[i] == nums[i - 1]:\n",
    "      nums.pop(i)\n",
    "      i -= 1  \n",
    "    i += 1\n",
    "  return nums\n",
    "  \n",
    "nums = [\"A\", \"B\", \"C\", \"C\", \"C\", \"C\", \"B\", \"A\"]  \n",
    "print(removeAdjacentRepeats(nums))"
   ]
  },
  {
   "cell_type": "markdown",
   "id": "7d6fdb25",
   "metadata": {},
   "source": [
    "# Separate Zeros And Ones"
   ]
  },
  {
   "cell_type": "code",
   "execution_count": 37,
   "id": "4053fbe8",
   "metadata": {},
   "outputs": [
    {
     "name": "stdout",
     "output_type": "stream",
     "text": [
      "[0, 0, 0, 1, 1, 1, 1]\n"
     ]
    }
   ],
   "source": [
    "def separateZerosAndOnes(A):\n",
    "\tleft = 0; right = len(A) - 1\n",
    "\twhile(left < right):\n",
    "\t\twhile(A[left] == 0 and left < right):\n",
    "\t\t\tleft += 1\n",
    "\t\twhile(A[right] == 1 and left < right):\n",
    "\t\t\tright -= 1\n",
    "\t\tif(left < right):\n",
    "\t\t\tA[left], A[right] = A[right], A[left]\n",
    "\t\t\tleft += 1\n",
    "\t\t\tright -= 1\n",
    "A = [1, 1, 0, 0, 1, 0, 1]\n",
    "separateZerosAndOnes(A)\n",
    "print(A)"
   ]
  },
  {
   "cell_type": "markdown",
   "id": "9288a2f8",
   "metadata": {},
   "source": [
    "# Separate ODD And Even Numbers"
   ]
  },
  {
   "cell_type": "code",
   "execution_count": 38,
   "id": "ab92b7ac",
   "metadata": {},
   "outputs": [
    {
     "name": "stdout",
     "output_type": "stream",
     "text": [
      "[12, 34, 90, 8, 9, 45, 3]\n"
     ]
    }
   ],
   "source": [
    "def separateEvenOdd(A):\n",
    "\tleft = 0; right = len(A) - 1\n",
    "\twhile(left < right):\n",
    "\t\twhile(A[left] % 2 == 0 and left < right):\n",
    "\t\t\tleft += 1\n",
    "\t\twhile(A[right] % 2 == 1 and left < right):\n",
    "\t\t\tright -= 1\n",
    "\t\tif(left < right):\n",
    "\t\t\tA[left], A[right] = A[right], A[left]\n",
    "\t\t\tleft += 1\n",
    "\t\t\tright -= 1\n",
    "A = [12, 34, 45, 9, 8, 90, 3]\n",
    "separateEvenOdd(A)\n",
    "print(A)"
   ]
  },
  {
   "cell_type": "markdown",
   "id": "68e926f8",
   "metadata": {},
   "source": [
    "# Shuffle Array"
   ]
  },
  {
   "cell_type": "code",
   "execution_count": 39,
   "id": "b8349456",
   "metadata": {},
   "outputs": [
    {
     "name": "stdout",
     "output_type": "stream",
     "text": [
      "[8, 3, 5, 6, 2, 4, 6, 1]\n"
     ]
    }
   ],
   "source": [
    "import random\n",
    "def shuffleArray(A):\n",
    "\tn = len(A)\n",
    "\ti = n - 1\n",
    "\twhile i > 0:\n",
    "\t\tj = int((random.random()) % (i + 1))\n",
    "\t\ttmp = A[j - 1];A[j - 1] = A[j];A[j] = tmp\n",
    "\t\ti -= 1\n",
    "\n",
    "A = [1, 3, 5, 6, 2, 4, 6, 8]\n",
    "shuffleArray(A)\n",
    "print(A)"
   ]
  },
  {
   "cell_type": "code",
   "execution_count": null,
   "id": "a62e6647",
   "metadata": {},
   "outputs": [],
   "source": []
  }
 ],
 "metadata": {
  "kernelspec": {
   "display_name": "Python 3 (ipykernel)",
   "language": "python",
   "name": "python3"
  },
  "language_info": {
   "codemirror_mode": {
    "name": "ipython",
    "version": 3
   },
   "file_extension": ".py",
   "mimetype": "text/x-python",
   "name": "python",
   "nbconvert_exporter": "python",
   "pygments_lexer": "ipython3",
   "version": "3.9.7"
  }
 },
 "nbformat": 4,
 "nbformat_minor": 5
}
