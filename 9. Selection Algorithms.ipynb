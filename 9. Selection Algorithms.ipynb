{
 "cells": [
  {
   "cell_type": "markdown",
   "id": "34befcac",
   "metadata": {},
   "source": [
    "# Find Largest In Array"
   ]
  },
  {
   "cell_type": "code",
   "execution_count": 1,
   "id": "d35605da",
   "metadata": {},
   "outputs": [
    {
     "name": "stdout",
     "output_type": "stream",
     "text": [
      "234\n"
     ]
    }
   ],
   "source": [
    "def FindLargestInArray(A):\n",
    "    max = 0\n",
    "    for number in A:\n",
    "        if number > max:\n",
    "            max = number\n",
    "    return max\n",
    "\t\n",
    "print(FindLargestInArray([2, 1, 5, 234, 3, 44, 7, 6, 4, 5, 9, 11, 12, 14, 13]))"
   ]
  },
  {
   "cell_type": "markdown",
   "id": "ff1f75d3",
   "metadata": {},
   "source": [
    "# Find Smallest And Largest In Array"
   ]
  },
  {
   "cell_type": "code",
   "execution_count": 2,
   "id": "b50dc5da",
   "metadata": {},
   "outputs": [
    {
     "name": "stdout",
     "output_type": "stream",
     "text": [
      "Smallest: %d 0\n",
      "Largest: %d 234\n"
     ]
    }
   ],
   "source": [
    "def FindSmallestAndLargestInArray(A):\n",
    "\tmax = 0\n",
    "\tmin = 0\n",
    "\tfor number in A:\n",
    "\t\tif number > max:\n",
    "\t\t\tmax = number\n",
    "\t\telif number < min:\n",
    "\t\t\tmin = number\n",
    "\n",
    "\tprint(\"Smallest: %d\", min)\t\n",
    "\tprint(\"Largest: %d\", max)\t\n",
    "\n",
    "FindSmallestAndLargestInArray([2, 1, 5, 234, 3, 44, 7, 6, 4, 5, 9, 11, 12, 14, 13])"
   ]
  },
  {
   "cell_type": "markdown",
   "id": "3f51e848",
   "metadata": {},
   "source": [
    "# Kth Smallest Using Partition"
   ]
  },
  {
   "cell_type": "code",
   "execution_count": 2,
   "id": "a21192b6",
   "metadata": {},
   "outputs": [
    {
     "name": "stdout",
     "output_type": "stream",
     "text": [
      "11\n"
     ]
    }
   ],
   "source": [
    "import random\n",
    "\n",
    "def kthSmallest(data, k):\n",
    "    \"Find the nth rank ordered element (the least value has rank 0).\"\n",
    "    data = list(data)\n",
    "    if not 0 <= k < len(data):\n",
    "        raise ValueError('not enough elements for the given rank')\n",
    "    while True:\n",
    "        pivot = random.choice(data)\n",
    "        pcount = 0\n",
    "        under, over = [], []\n",
    "        uappend, oappend = under.append, over.append\n",
    "        for elem in data:\n",
    "            if elem < pivot:\n",
    "                uappend(elem)\n",
    "            elif elem > pivot:\n",
    "                oappend(elem)\n",
    "            else:\n",
    "                pcount += 1\n",
    "        if k < len(under):\n",
    "            data = under\n",
    "        elif k < len(under) + pcount:\n",
    "            return pivot\n",
    "        else:\n",
    "            data = over\n",
    "            k -= len(under) + pcount\n",
    "\t\n",
    "print(kthSmallest([2, 1, 5, 234, 3, 44, 7, 6, 4, 5, 9, 11, 12, 14, 13], 9))"
   ]
  },
  {
   "cell_type": "markdown",
   "id": "442e94d3",
   "metadata": {},
   "source": [
    "# Coin Change"
   ]
  },
  {
   "cell_type": "markdown",
   "id": "21e977b4",
   "metadata": {},
   "source": [
    "Suppose we have coins of different denominations and a total amount of money amount. We have to define one function to compute the fewest number of coins that we need to make up that amount. When that amount of money cannot be accommodated by any combination of the coins, return -1. So if the input is [1,2,5], and the amount is 11, the output is 3. This is formed using 5 + 5 + 1 = 11."
   ]
  },
  {
   "cell_type": "raw",
   "id": "0b74839b",
   "metadata": {},
   "source": [
    "To solve this, we will follow these steps −\n",
    "\n",
    "if amount = 0, then return 0\n",
    "if minimum of coins array > amount, then return -1\n",
    "define one array called dp, of size amount + 1, and fill this with -1\n",
    "for i in range coins array\n",
    "if i > length of dp – 1, then skip the next part, go for the next iteration\n",
    "dp[i] := 1\n",
    "for j in range i + 1 to amount\n",
    "if dp[j – 1] = -1, then skip the next part, go for the next iteration\n",
    "otherwise if dp[j] = -1, then dp[j] := dp[j - i] + 1\n",
    "otherwise dp[j] := minimum of dp[j] and dp[j – i] + 1\n",
    "return dp[amount]"
   ]
  },
  {
   "cell_type": "code",
   "execution_count": 10,
   "id": "27138605",
   "metadata": {},
   "outputs": [
    {
     "name": "stdout",
     "output_type": "stream",
     "text": [
      "3\n"
     ]
    }
   ],
   "source": [
    "class Solution(object):\n",
    "   def coinChange(self, coins, amount):\n",
    "      if amount == 0 :\n",
    "         return 0\n",
    "      if min(coins) > amount:\n",
    "         return -1\n",
    "      dp = [-1 for i in range(0, amount + 1)]\n",
    "      for i in coins:\n",
    "         if i > len(dp) - 1:\n",
    "            continue\n",
    "         dp[i] = 1\n",
    "         for j in range(i + 1, amount + 1):\n",
    "            if dp[j - i] == -1:\n",
    "               continue\n",
    "            elif dp[j] == -1:\n",
    "               dp[j] = dp[j - i] + 1\n",
    "            else:\n",
    "               dp[j] = min(dp[j], dp[j - i] + 1)\n",
    "         #print(dp)\n",
    "      return dp[amount]\n",
    "ob1 = Solution()\n",
    "print(ob1.coinChange([1,2,5], 11))"
   ]
  },
  {
   "cell_type": "code",
   "execution_count": null,
   "id": "84ee72b4",
   "metadata": {},
   "outputs": [],
   "source": []
  }
 ],
 "metadata": {
  "kernelspec": {
   "display_name": "Python 3 (ipykernel)",
   "language": "python",
   "name": "python3"
  },
  "language_info": {
   "codemirror_mode": {
    "name": "ipython",
    "version": 3
   },
   "file_extension": ".py",
   "mimetype": "text/x-python",
   "name": "python",
   "nbconvert_exporter": "python",
   "pygments_lexer": "ipython3",
   "version": "3.9.7"
  }
 },
 "nbformat": 4,
 "nbformat_minor": 5
}
